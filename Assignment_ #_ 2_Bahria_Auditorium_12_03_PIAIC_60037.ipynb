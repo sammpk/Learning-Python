{
 "cells": [
  {
   "cell_type": "markdown",
   "metadata": {},
   "source": [
    "# 20 Operands With Different Operators"
   ]
  },
  {
   "cell_type": "code",
   "execution_count": 2,
   "metadata": {},
   "outputs": [
    {
     "data": {
      "text/plain": [
       "2930.0"
      ]
     },
     "execution_count": 2,
     "metadata": {},
     "output_type": "execute_result"
    }
   ],
   "source": [
    "operation= 7+22/(50%8)*10+25-(70+83*9)+24//40+92+71*48-(100//114)**18+110/2+50\n",
    "operation"
   ]
  },
  {
   "cell_type": "markdown",
   "metadata": {},
   "source": [
    "# Use of String Functions"
   ]
  },
  {
   "cell_type": "code",
   "execution_count": 4,
   "metadata": {},
   "outputs": [
    {
     "data": {
      "text/plain": [
       "'Lisa did the best she could to draw a map on the small piece of paper.'"
      ]
     },
     "execution_count": 4,
     "metadata": {},
     "output_type": "execute_result"
    }
   ],
   "source": [
    "#  capitalize()  Return a capitalized version of the string.\n",
    "sentence= \"lisa did the best she could to draw a map on the small piece of paper.\"\n",
    "sentence.capitalize()"
   ]
  },
  {
   "cell_type": "code",
   "execution_count": 5,
   "metadata": {},
   "outputs": [
    {
     "data": {
      "text/plain": [
       "'lisa did the best she could to draw a map on the small piece of paper.'"
      ]
     },
     "execution_count": 5,
     "metadata": {},
     "output_type": "execute_result"
    }
   ],
   "source": [
    "# casefold()  Return a version of the string suitable for caseless comparisons.\n",
    "sentence.casefold()"
   ]
  },
  {
   "cell_type": "code",
   "execution_count": 8,
   "metadata": {},
   "outputs": [
    {
     "data": {
      "text/plain": [
       "'***************lisa did the best she could to draw a map on the small piece of paper.***************'"
      ]
     },
     "execution_count": 8,
     "metadata": {},
     "output_type": "execute_result"
    }
   ],
   "source": [
    "# center()  Return a centered string of length width.\n",
    "sentence.center(100,\"*\")"
   ]
  },
  {
   "cell_type": "code",
   "execution_count": 10,
   "metadata": {},
   "outputs": [
    {
     "data": {
      "text/plain": [
       "6"
      ]
     },
     "execution_count": 10,
     "metadata": {},
     "output_type": "execute_result"
    }
   ],
   "source": [
    "# count()  Return the number of non-overlapping occurrences of substring sub in\n",
    "sentence.count(\"a\")"
   ]
  },
  {
   "cell_type": "code",
   "execution_count": 12,
   "metadata": {},
   "outputs": [
    {
     "data": {
      "text/plain": [
       "b'\\xff\\xfel\\x00i\\x00s\\x00a\\x00 \\x00d\\x00i\\x00d\\x00 \\x00t\\x00h\\x00e\\x00 \\x00b\\x00e\\x00s\\x00t\\x00 \\x00s\\x00h\\x00e\\x00 \\x00c\\x00o\\x00u\\x00l\\x00d\\x00 \\x00t\\x00o\\x00 \\x00d\\x00r\\x00a\\x00w\\x00 \\x00a\\x00 \\x00m\\x00a\\x00p\\x00 \\x00o\\x00n\\x00 \\x00t\\x00h\\x00e\\x00 \\x00s\\x00m\\x00a\\x00l\\x00l\\x00 \\x00p\\x00i\\x00e\\x00c\\x00e\\x00 \\x00o\\x00f\\x00 \\x00p\\x00a\\x00p\\x00e\\x00r\\x00.\\x00'"
      ]
     },
     "execution_count": 12,
     "metadata": {},
     "output_type": "execute_result"
    }
   ],
   "source": [
    "# encode()  Encode the string using the codec registered for encoding.\n",
    "sentence.encode(encoding='utf-16')"
   ]
  },
  {
   "cell_type": "code",
   "execution_count": 14,
   "metadata": {},
   "outputs": [
    {
     "data": {
      "text/plain": [
       "b'lisa did the best she could to draw a map on the small piece of paper.'"
      ]
     },
     "execution_count": 14,
     "metadata": {},
     "output_type": "execute_result"
    }
   ],
   "source": [
    "sentence.encode(encoding='ascii')"
   ]
  },
  {
   "cell_type": "code",
   "execution_count": 16,
   "metadata": {},
   "outputs": [
    {
     "data": {
      "text/plain": [
       "False"
      ]
     },
     "execution_count": 16,
     "metadata": {},
     "output_type": "execute_result"
    }
   ],
   "source": [
    "# endswith()  Return True if S ends with the specified suffix, False otherwise.\n",
    "sentence.endswith(\"r\")"
   ]
  },
  {
   "cell_type": "code",
   "execution_count": 17,
   "metadata": {},
   "outputs": [
    {
     "data": {
      "text/plain": [
       "True"
      ]
     },
     "execution_count": 17,
     "metadata": {},
     "output_type": "execute_result"
    }
   ],
   "source": [
    "# endswith()  Return True if S ends with the specified suffix, False otherwise.\n",
    "sentence.endswith(\".\")"
   ]
  },
  {
   "cell_type": "code",
   "execution_count": 5,
   "metadata": {},
   "outputs": [
    {
     "data": {
      "text/plain": [
       "'Lisa             did the best she could to draw a               map on the small piece of paper.'"
      ]
     },
     "execution_count": 5,
     "metadata": {},
     "output_type": "execute_result"
    }
   ],
   "source": [
    "# expandtabs()   Return a copy where all tab characters are expanded using spaces.\n",
    "sentence1=\"Lisa\\t did the best she could to draw a \\tmap on the small piece of paper.\"\n",
    "sentence1.expandtabs(tabsize=16)"
   ]
  },
  {
   "cell_type": "code",
   "execution_count": 7,
   "metadata": {},
   "outputs": [
    {
     "data": {
      "text/plain": [
       "'Lisa did the best she could to draw a map on the small piece of paper.'"
      ]
     },
     "execution_count": 7,
     "metadata": {},
     "output_type": "execute_result"
    }
   ],
   "source": [
    "sentence1.expandtabs(tabsize=-32)"
   ]
  },
  {
   "cell_type": "code",
   "execution_count": 129,
   "metadata": {},
   "outputs": [
    {
     "data": {
      "text/plain": [
       "3"
      ]
     },
     "execution_count": 129,
     "metadata": {},
     "output_type": "execute_result"
    }
   ],
   "source": [
    "# find()  Return the lowest index in S where substring sub is found\n",
    "sentence= \"lisa did the best she could to draw a map on the small piece of paper {}\"\n",
    "sentence.find(\"a\")"
   ]
  },
  {
   "cell_type": "code",
   "execution_count": 22,
   "metadata": {},
   "outputs": [
    {
     "data": {
      "text/plain": [
       "'lisa did the best she could to draw a map on the small piece of paper using colors'"
      ]
     },
     "execution_count": 22,
     "metadata": {},
     "output_type": "execute_result"
    }
   ],
   "source": [
    "# format()  Return a formatted version of S, using substitutions from args and kwargs.\n",
    "sentence.format(\"using colors\")"
   ]
  },
  {
   "cell_type": "code",
   "execution_count": 32,
   "metadata": {},
   "outputs": [
    {
     "name": "stdout",
     "output_type": "stream",
     "text": [
      "Ali has Engineer profession\n",
      "Faisal has Doctor profession\n",
      "Ahmad has Student profession\n"
     ]
    }
   ],
   "source": [
    "# format_map() Return a formatted version of S, using substitutions from mapping. \n",
    " #str.format(**mapping) works for Python Dictionaries.\n",
    "occuption={\"x\":[\"Ali\",\"Faisal\",\"Ahmad\"],\"y\":[\"Engineer\",\"Doctor\",\"Student\"]}\n",
    "print('{x[0]} has {y[0]} profession' .format_map(occuption))\n",
    "print(\"{x[1]} has {y[1]} profession\".format_map(occuption))\n",
    "print(\"{x[2]} has {y[2]} profession\".format_map(occuption))"
   ]
  },
  {
   "cell_type": "code",
   "execution_count": 37,
   "metadata": {},
   "outputs": [
    {
     "data": {
      "text/plain": [
       "13"
      ]
     },
     "execution_count": 37,
     "metadata": {},
     "output_type": "execute_result"
    }
   ],
   "source": [
    "# index()  Return the lowest index in S where substring sub is found,\n",
    "sentence= \"lisa did the best she could to draw a map on the small piece of paper .\"\n",
    "sentence.index(\"best\")"
   ]
  },
  {
   "cell_type": "code",
   "execution_count": 38,
   "metadata": {},
   "outputs": [
    {
     "data": {
      "text/plain": [
       "False"
      ]
     },
     "execution_count": 38,
     "metadata": {},
     "output_type": "execute_result"
    }
   ],
   "source": [
    "# isanum() Return True if the string is an alpha-numeric string, False otherwise.\n",
    "sentence.isalnum()"
   ]
  },
  {
   "cell_type": "code",
   "execution_count": 46,
   "metadata": {},
   "outputs": [
    {
     "data": {
      "text/plain": [
       "True"
      ]
     },
     "execution_count": 46,
     "metadata": {},
     "output_type": "execute_result"
    }
   ],
   "source": [
    "# isanum() Return True if the string is an alpha-numeric string, False otherwise.\n",
    "alphanumeric= \"Lisa127hascolors56\"\n",
    "alphanumeric.isalnum()"
   ]
  },
  {
   "cell_type": "code",
   "execution_count": 47,
   "metadata": {},
   "outputs": [
    {
     "data": {
      "text/plain": [
       "False"
      ]
     },
     "execution_count": 47,
     "metadata": {},
     "output_type": "execute_result"
    }
   ],
   "source": [
    "# isalpha() Return True if the string is an alphabetic string, False otherwise.\n",
    "sentence= \"lisa did the best she could to draw a map on the small piece of paper .\"\n",
    "sentence.isalpha()"
   ]
  },
  {
   "cell_type": "code",
   "execution_count": 48,
   "metadata": {},
   "outputs": [
    {
     "data": {
      "text/plain": [
       "True"
      ]
     },
     "execution_count": 48,
     "metadata": {},
     "output_type": "execute_result"
    }
   ],
   "source": [
    "# isalpha() Return True if the string is an alphabetic string, False otherwise.\n",
    "alpha=\"lisadidthebest\"\n",
    "alpha.isalpha()"
   ]
  },
  {
   "cell_type": "code",
   "execution_count": 54,
   "metadata": {},
   "outputs": [
    {
     "data": {
      "text/plain": [
       "True"
      ]
     },
     "execution_count": 54,
     "metadata": {},
     "output_type": "execute_result"
    }
   ],
   "source": [
    "# isascii() Return True if all characters in the string are ASCII, False otherwise.\n",
    "sentence= \"lisa did the best she could to draw a map on the small piece of paper .\"\n",
    "sentence.isascii()"
   ]
  },
  {
   "cell_type": "code",
   "execution_count": 53,
   "metadata": {},
   "outputs": [
    {
     "data": {
      "text/plain": [
       "False"
      ]
     },
     "execution_count": 53,
     "metadata": {},
     "output_type": "execute_result"
    }
   ],
   "source": [
    "# isascii() Return True if all characters in the string are ASCII, False otherwise.\n",
    "sentence3= \"lisa  did the best she cöuld tö draw a map ön the small piece öf paper .\"\n",
    "sentence3.isascii()"
   ]
  },
  {
   "cell_type": "code",
   "execution_count": 61,
   "metadata": {},
   "outputs": [
    {
     "data": {
      "text/plain": [
       "False"
      ]
     },
     "execution_count": 61,
     "metadata": {},
     "output_type": "execute_result"
    }
   ],
   "source": [
    "# isdecimal() Return True if the string is a decimal string, False otherwise.\n",
    "sentence.isdecimal()"
   ]
  },
  {
   "cell_type": "code",
   "execution_count": 63,
   "metadata": {},
   "outputs": [
    {
     "data": {
      "text/plain": [
       "True"
      ]
     },
     "execution_count": 63,
     "metadata": {},
     "output_type": "execute_result"
    }
   ],
   "source": [
    "# isdecimal() Return True if the string is a decimal string, False otherwise.\n",
    "dec=\"104585527\"\n",
    "dec.isdecimal()"
   ]
  },
  {
   "cell_type": "code",
   "execution_count": 64,
   "metadata": {},
   "outputs": [
    {
     "data": {
      "text/plain": [
       "False"
      ]
     },
     "execution_count": 64,
     "metadata": {},
     "output_type": "execute_result"
    }
   ],
   "source": [
    "# isdigit() Return True if the string is a digit string, False otherwise.\n",
    "sentence.isdigit()"
   ]
  },
  {
   "cell_type": "code",
   "execution_count": 65,
   "metadata": {},
   "outputs": [
    {
     "data": {
      "text/plain": [
       "True"
      ]
     },
     "execution_count": 65,
     "metadata": {},
     "output_type": "execute_result"
    }
   ],
   "source": [
    "# isdigit() Return True if the string is a digit string, False otherwise.\n",
    "dec.isdigit()"
   ]
  },
  {
   "cell_type": "code",
   "execution_count": 66,
   "metadata": {},
   "outputs": [
    {
     "data": {
      "text/plain": [
       "False"
      ]
     },
     "execution_count": 66,
     "metadata": {},
     "output_type": "execute_result"
    }
   ],
   "source": [
    "# isidentifier() Return True if the string is a valid Python identifier, False otherwise.\n",
    "sentence.isidentifier()"
   ]
  },
  {
   "cell_type": "code",
   "execution_count": 92,
   "metadata": {},
   "outputs": [
    {
     "data": {
      "text/plain": [
       "True"
      ]
     },
     "execution_count": 92,
     "metadata": {},
     "output_type": "execute_result"
    }
   ],
   "source": [
    "identify=\"abcdef\"\n",
    "identify.isidentifier()"
   ]
  },
  {
   "cell_type": "code",
   "execution_count": 74,
   "metadata": {},
   "outputs": [
    {
     "data": {
      "text/plain": [
       "True"
      ]
     },
     "execution_count": 74,
     "metadata": {},
     "output_type": "execute_result"
    }
   ],
   "source": [
    "# islower() Return True if the string is a lowercase string, False otherwise.\n",
    "sentence.islower()"
   ]
  },
  {
   "cell_type": "code",
   "execution_count": 75,
   "metadata": {},
   "outputs": [
    {
     "data": {
      "text/plain": [
       "False"
      ]
     },
     "execution_count": 75,
     "metadata": {},
     "output_type": "execute_result"
    }
   ],
   "source": [
    "# isnumeric() Return True if the string is a numeric string, False otherwise.\n",
    "sentence.isnumeric()"
   ]
  },
  {
   "cell_type": "code",
   "execution_count": 76,
   "metadata": {},
   "outputs": [
    {
     "data": {
      "text/plain": [
       "True"
      ]
     },
     "execution_count": 76,
     "metadata": {},
     "output_type": "execute_result"
    }
   ],
   "source": [
    "# isnumeric() Return True if the string is a numeric string, False otherwise.\n",
    "dec.isnumeric()"
   ]
  },
  {
   "cell_type": "code",
   "execution_count": 77,
   "metadata": {},
   "outputs": [
    {
     "data": {
      "text/plain": [
       "True"
      ]
     },
     "execution_count": 77,
     "metadata": {},
     "output_type": "execute_result"
    }
   ],
   "source": [
    "# isprintable() Return True if the string is printable, False otherwise.\n",
    "sentence.isprintable()"
   ]
  },
  {
   "cell_type": "code",
   "execution_count": 78,
   "metadata": {},
   "outputs": [
    {
     "data": {
      "text/plain": [
       "False"
      ]
     },
     "execution_count": 78,
     "metadata": {},
     "output_type": "execute_result"
    }
   ],
   "source": [
    "# isprintable() Return True if the string is printable, False otherwise.\n",
    "sentence1=\"Lisa\\t did the best she could to draw a \\tmap on the small piece of paper.\"\n",
    "sentence1.isprintable()"
   ]
  },
  {
   "cell_type": "code",
   "execution_count": 79,
   "metadata": {},
   "outputs": [
    {
     "data": {
      "text/plain": [
       "False"
      ]
     },
     "execution_count": 79,
     "metadata": {},
     "output_type": "execute_result"
    }
   ],
   "source": [
    "# isspace() Return True if the string is a whitespace string, False otherwise.\n",
    "sentence.isspace()"
   ]
  },
  {
   "cell_type": "code",
   "execution_count": 82,
   "metadata": {},
   "outputs": [
    {
     "data": {
      "text/plain": [
       "True"
      ]
     },
     "execution_count": 82,
     "metadata": {},
     "output_type": "execute_result"
    }
   ],
   "source": [
    "# isspace() Return True if the string is a whitespace string, False otherwise.\n",
    "# This function is used to check if the argument contains all whitespace characters such as :\n",
    "#‘ ‘ – Space\n",
    "#‘\\t’ – Horizontal tab\n",
    "#‘\\n’ – Newline\n",
    "#‘\\v’ – Vertical tab\n",
    "#‘\\f’ – Feed\n",
    "#‘\\r’ – Carriage return\n",
    "spaceStr=\"\\n \"\n",
    "spaceStr.isspace()"
   ]
  },
  {
   "cell_type": "code",
   "execution_count": 83,
   "metadata": {},
   "outputs": [
    {
     "data": {
      "text/plain": [
       "False"
      ]
     },
     "execution_count": 83,
     "metadata": {},
     "output_type": "execute_result"
    }
   ],
   "source": [
    "#istitle() Return True if the string is a title-cased string, False otherwise.\n",
    "sentence.istitle()"
   ]
  },
  {
   "cell_type": "code",
   "execution_count": 84,
   "metadata": {},
   "outputs": [
    {
     "data": {
      "text/plain": [
       "True"
      ]
     },
     "execution_count": 84,
     "metadata": {},
     "output_type": "execute_result"
    }
   ],
   "source": [
    "#istitle() Return True if the string is a title-cased string, False otherwise.\n",
    "titleStr=\"This Example Is To Check The Title Of String\"\n",
    "titleStr.istitle()"
   ]
  },
  {
   "cell_type": "code",
   "execution_count": 85,
   "metadata": {},
   "outputs": [
    {
     "data": {
      "text/plain": [
       "False"
      ]
     },
     "execution_count": 85,
     "metadata": {},
     "output_type": "execute_result"
    }
   ],
   "source": [
    "# isupper() Return True if the string is an uppercase string, False otherwise.\n",
    "sentence.isupper()"
   ]
  },
  {
   "cell_type": "code",
   "execution_count": 87,
   "metadata": {},
   "outputs": [
    {
     "data": {
      "text/plain": [
       "True"
      ]
     },
     "execution_count": 87,
     "metadata": {},
     "output_type": "execute_result"
    }
   ],
   "source": [
    "upperStr=\"HAPPY BIRTHDAY\"\n",
    "upperStr.isupper()\n"
   ]
  },
  {
   "cell_type": "code",
   "execution_count": 93,
   "metadata": {},
   "outputs": [
    {
     "data": {
      "text/plain": [
       "'HabcdefAabcdefPabcdefPabcdefYabcdef abcdefBabcdefIabcdefRabcdefTabcdefHabcdefDabcdefAabcdefY'"
      ]
     },
     "execution_count": 93,
     "metadata": {},
     "output_type": "execute_result"
    }
   ],
   "source": [
    "# join() Concatenate any number of strings.\n",
    "identify.join(upperStr)"
   ]
  },
  {
   "cell_type": "code",
   "execution_count": 94,
   "metadata": {},
   "outputs": [
    {
     "data": {
      "text/plain": [
       "'HAPPY BIRTHDAY||||||||||||||||'"
      ]
     },
     "execution_count": 94,
     "metadata": {},
     "output_type": "execute_result"
    }
   ],
   "source": [
    "# ljust() Return a left-justified string of length width.\n",
    "upperStr.ljust(30,\"|\")"
   ]
  },
  {
   "cell_type": "code",
   "execution_count": 95,
   "metadata": {},
   "outputs": [
    {
     "data": {
      "text/plain": [
       "'happy birthday'"
      ]
     },
     "execution_count": 95,
     "metadata": {},
     "output_type": "execute_result"
    }
   ],
   "source": [
    "# lower() Return a copy of the string converted to lowercase.\n",
    "upperStr.lower()"
   ]
  },
  {
   "cell_type": "code",
   "execution_count": 137,
   "metadata": {},
   "outputs": [
    {
     "data": {
      "text/plain": [
       "'Lisa is best \\n \\n \\n'"
      ]
     },
     "execution_count": 137,
     "metadata": {},
     "output_type": "execute_result"
    }
   ],
   "source": [
    "# lstrip() Return a copy of the string with leading whitespace removed.\n",
    "remStr=\"\\n \\n \\n Lisa is best \\n \\n \\n\"\n",
    "remStr.lstrip()"
   ]
  },
  {
   "cell_type": "code",
   "execution_count": 107,
   "metadata": {},
   "outputs": [
    {
     "data": {
      "text/plain": [
       "{120: ['Ali', 'Faisal', 'Ahmad'], 121: ['Engineer', 'Doctor', 'Student']}"
      ]
     },
     "execution_count": 107,
     "metadata": {},
     "output_type": "execute_result"
    }
   ],
   "source": [
    "#maketrans() Return a translation table usable for str.translate(). It works on dictionary\n",
    "string=\"ABC\"\n",
    "string.maketrans(occuption)"
   ]
  },
  {
   "cell_type": "code",
   "execution_count": 118,
   "metadata": {},
   "outputs": [
    {
     "data": {
      "text/plain": [
       "('lisa did ',\n",
       " 'the',\n",
       " ' best she could to draw a map on the small piece of paper .')"
      ]
     },
     "execution_count": 118,
     "metadata": {},
     "output_type": "execute_result"
    }
   ],
   "source": [
    "# partition() Partition the string into three parts using the given separator. choose any word from string as a separtor\n",
    "sentence.partition('the')"
   ]
  },
  {
   "cell_type": "code",
   "execution_count": 123,
   "metadata": {},
   "outputs": [
    {
     "data": {
      "text/plain": [
       "'liso did the best she could to drow o mop on the small piece of paper .'"
      ]
     },
     "execution_count": 123,
     "metadata": {},
     "output_type": "execute_result"
    }
   ],
   "source": [
    "#replace() Return a copy with all occurrences of substring old replaced by new. count means how many times want to replace \n",
    "sentence.replace(\"a\",\"o\",4)"
   ]
  },
  {
   "cell_type": "code",
   "execution_count": 128,
   "metadata": {},
   "outputs": [
    {
     "data": {
      "text/plain": [
       "65"
      ]
     },
     "execution_count": 128,
     "metadata": {},
     "output_type": "execute_result"
    }
   ],
   "source": [
    "# rfind() Return the highest index in S where substring sub is found,\n",
    "sentence.rfind(\"a\")"
   ]
  },
  {
   "cell_type": "code",
   "execution_count": 130,
   "metadata": {},
   "outputs": [
    {
     "data": {
      "text/plain": [
       "13"
      ]
     },
     "execution_count": 130,
     "metadata": {},
     "output_type": "execute_result"
    }
   ],
   "source": [
    "# rindex() Return the highest index in S where substring sub is found,\n",
    "sentence.rindex(\"best\")"
   ]
  },
  {
   "cell_type": "code",
   "execution_count": 132,
   "metadata": {},
   "outputs": [
    {
     "data": {
      "text/plain": [
       "'$$$$$$$$lisa did the best she could to draw a map on the small piece of paper {}'"
      ]
     },
     "execution_count": 132,
     "metadata": {},
     "output_type": "execute_result"
    }
   ],
   "source": [
    "# rjust() Return a right-justified string of length width.\n",
    "sentence.rjust(80,\"$\")"
   ]
  },
  {
   "cell_type": "code",
   "execution_count": 133,
   "metadata": {},
   "outputs": [
    {
     "data": {
      "text/plain": [
       "('lisa did the best she could to draw a map on the small piece of p',\n",
       " 'a',\n",
       " 'per {}')"
      ]
     },
     "execution_count": 133,
     "metadata": {},
     "output_type": "execute_result"
    }
   ],
   "source": [
    "# rpartition() Partition the string into three parts using the given separator.\n",
    "sentence.rpartition(\"a\")"
   ]
  },
  {
   "cell_type": "code",
   "execution_count": 142,
   "metadata": {},
   "outputs": [
    {
     "data": {
      "text/plain": [
       "['lisa did the best she could to draw a map on the small piece',\n",
       " 'of',\n",
       " 'paper',\n",
       " '{}']"
      ]
     },
     "execution_count": 142,
     "metadata": {},
     "output_type": "execute_result"
    }
   ],
   "source": [
    "# rsplit() Return a list of the words in the string, using sep as the delimiter string.\n",
    "sentence.rsplit(' ', 3)"
   ]
  },
  {
   "cell_type": "code",
   "execution_count": 138,
   "metadata": {},
   "outputs": [
    {
     "data": {
      "text/plain": [
       "'\\n \\n \\n Lisa is best'"
      ]
     },
     "execution_count": 138,
     "metadata": {},
     "output_type": "execute_result"
    }
   ],
   "source": [
    "# rstrip() Return a copy of the string with trailing whitespace removed.\n",
    "remStr.rstrip()"
   ]
  },
  {
   "cell_type": "code",
   "execution_count": 143,
   "metadata": {},
   "outputs": [
    {
     "data": {
      "text/plain": [
       "['lisa did ', ' best she could to draw a map on ', ' small piece of paper {}']"
      ]
     },
     "execution_count": 143,
     "metadata": {},
     "output_type": "execute_result"
    }
   ],
   "source": [
    "# split() Return a list of the words in the string, using sep as the delimiter string.\n",
    "sentence.split(\"the\") "
   ]
  },
  {
   "cell_type": "code",
   "execution_count": 146,
   "metadata": {},
   "outputs": [
    {
     "data": {
      "text/plain": [
       "['', ' ', ' ', ' Lisa is best ', ' ', ' ']"
      ]
     },
     "execution_count": 146,
     "metadata": {},
     "output_type": "execute_result"
    }
   ],
   "source": [
    "# splitlines() Return a list of the lines in the string, breaking at line boundaries.\n",
    "remStr=\"\\n \\n \\n Lisa is best \\n \\n \\n\"\n",
    "remStr.splitlines()"
   ]
  },
  {
   "cell_type": "code",
   "execution_count": 148,
   "metadata": {},
   "outputs": [
    {
     "data": {
      "text/plain": [
       "True"
      ]
     },
     "execution_count": 148,
     "metadata": {},
     "output_type": "execute_result"
    }
   ],
   "source": [
    "# startswith() Return True if S starts with the specified prefix, False otherwise.\n",
    "sentence.startswith(\"l\")"
   ]
  },
  {
   "cell_type": "code",
   "execution_count": 149,
   "metadata": {},
   "outputs": [
    {
     "data": {
      "text/plain": [
       "False"
      ]
     },
     "execution_count": 149,
     "metadata": {},
     "output_type": "execute_result"
    }
   ],
   "source": [
    "# startswith() Return True if S starts with the specified prefix, False otherwise.\n",
    "sentence.startswith(\"L\")"
   ]
  },
  {
   "cell_type": "code",
   "execution_count": 150,
   "metadata": {},
   "outputs": [
    {
     "data": {
      "text/plain": [
       "'Lisa is best'"
      ]
     },
     "execution_count": 150,
     "metadata": {},
     "output_type": "execute_result"
    }
   ],
   "source": [
    "# strip() Return a copy of the string with leading and trailing whitespace remove.\n",
    "remStr=\"\\n \\n \\n Lisa is best \\n \\n \\n\"\n",
    "remStr.strip()"
   ]
  },
  {
   "cell_type": "code",
   "execution_count": 151,
   "metadata": {},
   "outputs": [
    {
     "data": {
      "text/plain": [
       "'LISA DID THE BEST SHE COULD TO DRAW A MAP ON THE SMALL PIECE OF PAPER {}'"
      ]
     },
     "execution_count": 151,
     "metadata": {},
     "output_type": "execute_result"
    }
   ],
   "source": [
    "# swapcase() Convert uppercase characters to lowercase and lowercase characters to uppercas\n",
    "sentence.swapcase()"
   ]
  },
  {
   "cell_type": "code",
   "execution_count": 152,
   "metadata": {},
   "outputs": [
    {
     "data": {
      "text/plain": [
       "'Lisa Did The Best She Could To Draw A Map On The Small Piece Of Paper {}'"
      ]
     },
     "execution_count": 152,
     "metadata": {},
     "output_type": "execute_result"
    }
   ],
   "source": [
    "# title() Return a version of the string where each word is titlecased.\n",
    "sentence.title()"
   ]
  },
  {
   "cell_type": "code",
   "execution_count": 153,
   "metadata": {},
   "outputs": [
    {
     "data": {
      "text/plain": [
       "'lisa did des bssd ses could do draw a map on des small piscs of papsr {}'"
      ]
     },
     "execution_count": 153,
     "metadata": {},
     "output_type": "execute_result"
    }
   ],
   "source": [
    "# translate() Replace each character in the string using the given translation table.\n",
    "str1= \"the\"\n",
    "str2=\"des\"\n",
    "trans1=sentence.maketrans(str1,str2)\n",
    "sentence.translate(trans1)"
   ]
  },
  {
   "cell_type": "code",
   "execution_count": 154,
   "metadata": {},
   "outputs": [
    {
     "data": {
      "text/plain": [
       "'LISA DID THE BEST SHE COULD TO DRAW A MAP ON THE SMALL PIECE OF PAPER {}'"
      ]
     },
     "execution_count": 154,
     "metadata": {},
     "output_type": "execute_result"
    }
   ],
   "source": [
    "# upper() Return a copy of the string converted to uppercase.\n",
    "sentence.upper()"
   ]
  },
  {
   "cell_type": "code",
   "execution_count": 155,
   "metadata": {},
   "outputs": [
    {
     "data": {
      "text/plain": [
       "'002525'"
      ]
     },
     "execution_count": 155,
     "metadata": {},
     "output_type": "execute_result"
    }
   ],
   "source": [
    "# zfill() Pad a numeric string with zeros on the left, to fill a field of the given width.\n",
    "num2=\"2525\"\n",
    "num2.zfill(6)"
   ]
  },
  {
   "cell_type": "code",
   "execution_count": null,
   "metadata": {},
   "outputs": [],
   "source": []
  }
 ],
 "metadata": {
  "kernelspec": {
   "display_name": "Python 3",
   "language": "python",
   "name": "python3"
  },
  "language_info": {
   "codemirror_mode": {
    "name": "ipython",
    "version": 3
   },
   "file_extension": ".py",
   "mimetype": "text/x-python",
   "name": "python",
   "nbconvert_exporter": "python",
   "pygments_lexer": "ipython3",
   "version": "3.7.1"
  }
 },
 "nbformat": 4,
 "nbformat_minor": 2
}
